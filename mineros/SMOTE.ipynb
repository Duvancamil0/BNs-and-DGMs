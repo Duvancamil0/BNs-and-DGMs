{
 "cells": [
  {
   "cell_type": "markdown",
   "metadata": {},
   "source": [
    "Import the library"
   ]
  },
  {
   "cell_type": "code",
   "execution_count": 1,
   "metadata": {},
   "outputs": [],
   "source": [
    "from imblearn.over_sampling import SMOTEN"
   ]
  },
  {
   "cell_type": "markdown",
   "metadata": {},
   "source": [
    "Load the project data"
   ]
  },
  {
   "cell_type": "code",
   "execution_count": 2,
   "metadata": {},
   "outputs": [
    {
     "name": "stdout",
     "output_type": "stream",
     "text": [
      "<class 'pandas.core.frame.DataFrame'>\n",
      "RangeIndex: 78 entries, 0 to 77\n",
      "Data columns (total 10 columns):\n",
      " #   Column                 Non-Null Count  Dtype \n",
      "---  ------                 --------------  ----- \n",
      " 0   Category_Time          78 non-null     object\n",
      " 1   Category_Cost          78 non-null     object\n",
      " 2   International_Project  78 non-null     int64 \n",
      " 3   Labor_Risk             78 non-null     int64 \n",
      " 4   Analysis_Risk          78 non-null     int64 \n",
      " 5   Decision_Risk          78 non-null     int64 \n",
      " 6   Engineering_Risk       78 non-null     int64 \n",
      " 7   Provider._Risk         78 non-null     int64 \n",
      " 8   Weather_Risk           78 non-null     int64 \n",
      " 9   Fabrication._Risk      78 non-null     int64 \n",
      "dtypes: int64(8), object(2)\n",
      "memory usage: 6.2+ KB\n"
     ]
    }
   ],
   "source": [
    "import pandas as pd\n",
    "df = pd.read_csv(\"/mineros/training.csv\")\n",
    "y = df['Category_Overrun']\n",
    "X = df.drop(columns=['Category_Overrun'])\n",
    "X.info()"
   ]
  },
  {
   "cell_type": "markdown",
   "metadata": {},
   "source": [
    "Oversample to balance the overrun variable"
   ]
  },
  {
   "cell_type": "code",
   "execution_count": 3,
   "metadata": {},
   "outputs": [
    {
     "name": "stdout",
     "output_type": "stream",
     "text": [
      "<class 'pandas.core.frame.DataFrame'>\n",
      "RangeIndex: 500 entries, 0 to 499\n",
      "Data columns (total 10 columns):\n",
      " #   Column                 Non-Null Count  Dtype \n",
      "---  ------                 --------------  ----- \n",
      " 0   Category_Time          500 non-null    object\n",
      " 1   Category_Cost          500 non-null    object\n",
      " 2   International_Project  500 non-null    int64 \n",
      " 3   Labor_Risk             500 non-null    int64 \n",
      " 4   Analysis_Risk          500 non-null    int64 \n",
      " 5   Decision_Risk          500 non-null    int64 \n",
      " 6   Engineering_Risk       500 non-null    int64 \n",
      " 7   Provider._Risk         500 non-null    int64 \n",
      " 8   Weather_Risk           500 non-null    int64 \n",
      " 9   Fabrication._Risk      500 non-null    int64 \n",
      "dtypes: int64(8), object(2)\n",
      "memory usage: 39.2+ KB\n"
     ]
    }
   ],
   "source": [
    "sampler = SMOTEN(categorical_encoder=None, \n",
    "                 sampling_strategy={'Minimal': 100, 'Small': 100, 'Medium': 100, 'Large': 100, 'Very Large': 100}, random_state=1)\n",
    "X_res, y_res = sampler.fit_resample(X, y)\n",
    "X_res.info()"
   ]
  },
  {
   "cell_type": "markdown",
   "metadata": {},
   "source": [
    "Save the data to a new file"
   ]
  },
  {
   "cell_type": "code",
   "execution_count": 4,
   "metadata": {},
   "outputs": [],
   "source": [
    "resampled = X_res\n",
    "resampled[\"Category_Overrun\"] = y_res\n",
    "resampled.to_csv(\"/mineros/SMOTE.csv\")"
   ]
  }
 ],
 "metadata": {
  "kernelspec": {
   "display_name": "Python 3",
   "language": "python",
   "name": "python3"
  },
  "language_info": {
   "codemirror_mode": {
    "name": "ipython",
    "version": 3
   },
   "file_extension": ".py",
   "mimetype": "text/x-python",
   "name": "python",
   "nbconvert_exporter": "python",
   "pygments_lexer": "ipython3",
   "version": "3.9.10"
  },
  "orig_nbformat": 4
 },
 "nbformat": 4,
 "nbformat_minor": 2
}
