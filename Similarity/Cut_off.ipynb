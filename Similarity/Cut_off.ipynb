{
 "cells": [
  {
   "cell_type": "code",
   "execution_count": 1,
   "metadata": {},
   "outputs": [],
   "source": [
    "import pandas as pd\n",
    "import numpy as np\n",
    "from sklearn.metrics import roc_curve, auc"
   ]
  },
  {
   "cell_type": "code",
   "execution_count": 2,
   "metadata": {},
   "outputs": [
    {
     "name": "stdout",
     "output_type": "stream",
     "text": [
      "<class 'pandas.core.frame.DataFrame'>\n",
      "RangeIndex: 108 entries, 0 to 107\n",
      "Data columns (total 10 columns):\n",
      " #   Column              Non-Null Count  Dtype  \n",
      "---  ------              --------------  -----  \n",
      " 0   BN                  108 non-null    object \n",
      " 1   Starter             108 non-null    int64  \n",
      " 2   Synthesizer         108 non-null    object \n",
      " 3   Augmentation        108 non-null    int64  \n",
      " 4   Dataset             108 non-null    object \n",
      " 5   Column Shapes       108 non-null    float64\n",
      " 6   Column Pair Trends  108 non-null    float64\n",
      " 7   Average             108 non-null    float64\n",
      " 8   KL improvement      108 non-null    float64\n",
      " 9   Logical             108 non-null    int64  \n",
      "dtypes: float64(4), int64(3), object(3)\n",
      "memory usage: 8.6+ KB\n"
     ]
    }
   ],
   "source": [
    "df = pd.read_csv('/Similarity/similarity.csv')\n",
    "df.info()"
   ]
  },
  {
   "cell_type": "code",
   "execution_count": 3,
   "metadata": {},
   "outputs": [
    {
     "name": "stdout",
     "output_type": "stream",
     "text": [
      "Optimal cut-off for Average: 95.8\n",
      "Optimal cut-off for Column Shapes: 95.86\n",
      "Optimal cut-off for Column Pair Trends: 94.18\n"
     ]
    }
   ],
   "source": [
    "variables = ['Average', 'Column Shapes', 'Column Pair Trends']\n",
    "\n",
    "for var in variables:\n",
    "    # Calculate the ROC curve\n",
    "    fpr, tpr, thresholds = roc_curve(df['Logical'], df[var])\n",
    "    \n",
    "    # Calculate the AUC (Area Under the Curve)\n",
    "    roc_auc = auc(fpr, tpr)\n",
    "    optimal_idx = np.argmin(np.sqrt(fpr**2 + (1-tpr)**2))\n",
    "    optimal_threshold = thresholds[optimal_idx]\n",
    "    print(f'Optimal cut-off for {var}: {optimal_threshold}')"
   ]
  },
  {
   "cell_type": "markdown",
   "metadata": {},
   "source": [
    "Now that the Cut-ff was calculated we can generate two arrays based on this Cut-off and perform a permutation test"
   ]
  },
  {
   "cell_type": "code",
   "execution_count": 6,
   "metadata": {},
   "outputs": [
    {
     "name": "stdout",
     "output_type": "stream",
     "text": [
      "Observed difference in means: 2.37160\n"
     ]
    }
   ],
   "source": [
    "# Filter the data based on the 'Average' column\n",
    "kl_high_similarity = df.loc[df['Average'] >= 95.8, 'KL improvement'].values\n",
    "kl_low_similarity = df.loc[df['Average'] < 95.8, 'KL improvement'].values\n",
    "\n",
    "# Calculate the observed test statistic\n",
    "observed_diff = np.mean(kl_high_similarity) - np.mean(kl_low_similarity)\n",
    "print(f'Observed difference in means: {observed_diff:.5f}')\n",
    "\n",
    "# Combine the datasets\n",
    "combined = np.concatenate([kl_high_similarity, kl_low_similarity])\n"
   ]
  },
  {
   "cell_type": "code",
   "execution_count": 7,
   "metadata": {},
   "outputs": [
    {
     "name": "stdout",
     "output_type": "stream",
     "text": [
      "Number of permutations: 10000\n",
      "P-value: 0.00000\n"
     ]
    }
   ],
   "source": [
    "# Perform the permutation test\n",
    "n_permutations = 10000\n",
    "print(f'Number of permutations: {n_permutations}')\n",
    "permuted_diffs = []\n",
    "for _ in range(n_permutations):\n",
    "    permuted = np.random.permutation(combined)\n",
    "    permuted_high_similarity = permuted[:len(kl_high_similarity)]\n",
    "    permuted_low_similarity = permuted[len(kl_high_similarity):]\n",
    "    permuted_diff = np.mean(permuted_high_similarity) - np.mean(permuted_low_similarity)\n",
    "    permuted_diffs.append(permuted_diff)\n",
    "\n",
    "# Calculate the P-value\n",
    "p_value = np.mean(np.abs(permuted_diffs) >= np.abs(observed_diff))\n",
    "print(f'P-value: {p_value:.5f}')"
   ]
  }
 ],
 "metadata": {
  "kernelspec": {
   "display_name": "base",
   "language": "python",
   "name": "python3"
  },
  "language_info": {
   "codemirror_mode": {
    "name": "ipython",
    "version": 3
   },
   "file_extension": ".py",
   "mimetype": "text/x-python",
   "name": "python",
   "nbconvert_exporter": "python",
   "pygments_lexer": "ipython3",
   "version": "3.9.10"
  },
  "orig_nbformat": 4
 },
 "nbformat": 4,
 "nbformat_minor": 2
}
